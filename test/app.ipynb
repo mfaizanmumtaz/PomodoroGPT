{
 "cells": [
  {
   "cell_type": "code",
   "execution_count": 1,
   "metadata": {},
   "outputs": [
    {
     "name": "stdout",
     "output_type": "stream",
     "text": [
      "{\n",
      "    \"content_type\": \"audio/mpeg\",\n",
      "    \"request_id\": \"1a9e3aac-0b23-4ed5-9643-5b345133c924\",\n",
      "    \"model_uuid\": \"d6db4f9d-0321-467c-a57c-3daca7d5b68e\",\n",
      "    \"model_name\": \"aura-asteria-en\",\n",
      "    \"characters\": 163,\n",
      "    \"transfer_encoding\": \"chunked\",\n",
      "    \"date\": \"Thu, 18 Jul 2024 19:12:56 GMT\",\n",
      "    \"filename\": \"audio.mp3\"\n",
      "}\n"
     ]
    }
   ],
   "source": [
    "from deepgram import DeepgramClient, SpeakOptions\n",
    "\n",
    "DEEPGRAM_API_KEY = \"Your Deepgram API KEY\"\n",
    "\n",
    "TEXT = {\n",
    "    \"text\": \"Deepgram is great for real-time conversations… and also, you can build apps for things like customer support, logistics, and more. What do you think of the voices?\"\n",
    "}\n",
    "FILENAME = \"audio.mp3\"\n",
    "\n",
    "\n",
    "def main():\n",
    "    try:\n",
    "        deepgram = DeepgramClient(DEEPGRAM_API_KEY)\n",
    "\n",
    "        options = SpeakOptions(\n",
    "            model=\"aura-asteria-en\",\n",
    "        )\n",
    "\n",
    "        response = deepgram.speak.v(\"1\").save(FILENAME, TEXT, options)\n",
    "        print(response.to_json(indent=4))\n",
    "\n",
    "    except Exception as e:\n",
    "        print(f\"Exception: {e}\")\n",
    "\n",
    "if __name__ == \"__main__\":\n",
    "    main()"
   ]
  }
 ],
 "metadata": {
  "kernelspec": {
   "display_name": "Python 3",
   "language": "python",
   "name": "python3"
  },
  "language_info": {
   "codemirror_mode": {
    "name": "ipython",
    "version": 3
   },
   "file_extension": ".py",
   "mimetype": "text/x-python",
   "name": "python",
   "nbconvert_exporter": "python",
   "pygments_lexer": "ipython3",
   "version": "3.12.3"
  }
 },
 "nbformat": 4,
 "nbformat_minor": 2
}
